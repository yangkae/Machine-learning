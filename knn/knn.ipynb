{
 "cells": [
  {
   "cell_type": "markdown",
   "metadata": {},
   "source": [
    "# K-近邻算法-knn"
   ]
  },
  {
   "cell_type": "code",
   "execution_count": 1,
   "metadata": {},
   "outputs": [],
   "source": [
    "import numpy as np\n",
    "import operator"
   ]
  },
  {
   "cell_type": "code",
   "execution_count": 2,
   "metadata": {},
   "outputs": [],
   "source": [
    "def createdataset():\n",
    "    group = np.array([[1.0, 1.1], [1.0, 1.0], [0, 0], [0, 0.1]])\n",
    "    labels = ['A', 'A', 'B', 'B']\n",
    "    return group, labels"
   ]
  },
  {
   "cell_type": "code",
   "execution_count": 3,
   "metadata": {},
   "outputs": [],
   "source": [
    "def classify0(inX, dataset, labels, k):\n",
    "    dataset_size = dataset.shape[0]\n",
    "    # (以下）距离计算\n",
    "    diff_mat = np.tile(inX, (dataset_size, 1)) - dataset\n",
    "    # print(np.tile(inX, (dataset_size, 1)))\n",
    "    # print(diff_mat)\n",
    "    sq_diff_mat = diff_mat**2\n",
    "    # print(sq_diff_mat)\n",
    "    sq_distances = sq_diff_mat.sum(axis=1)\n",
    "    # print(sq_distances)\n",
    "    distances = sq_distances**0.5\n",
    "    # print(distances)\n",
    "    sorted_dist_ind = distances.argsort()\n",
    "    print(sorted_dist_ind)\n",
    "    class_count = {}\n",
    "    #（以下)选择距离最小的k个点\n",
    "    for i in range(k):    # 从0到3，不包含3\n",
    "        #        print(range(k))\n",
    "        votellabel = labels[sorted_dist_ind[i]]\n",
    "        class_count[votellabel] = class_count.get(votellabel, 0) + 1\n",
    "    sorted_class_count = sorted(class_count.items(), key=operator.itemgetter(1), reverse=True)\n",
    "    print(sorted_class_count)\n",
    "    return sorted_class_count[0][0]"
   ]
  },
  {
   "cell_type": "code",
   "execution_count": 4,
   "metadata": {},
   "outputs": [
    {
     "name": "stdout",
     "output_type": "stream",
     "text": [
      "[[1.  1.1]\n",
      " [1.  1. ]\n",
      " [0.  0. ]\n",
      " [0.  0.1]]\n",
      "['A', 'A', 'B', 'B']\n",
      "[2 3 1 0]\n",
      "[('B', 2), ('A', 1)]\n",
      "B\n"
     ]
    }
   ],
   "source": [
    "group, labels = createdataset()\n",
    "print(group)\n",
    "print(labels)\n",
    "print(classify0([0, 0], group, labels, 3)) #预测结果"
   ]
  },
  {
   "cell_type": "code",
   "execution_count": 5,
   "metadata": {},
   "outputs": [],
   "source": [
    "def file2matrix(filename):\n",
    "    fr = open(filename)\n",
    "    arrayolines = fr.readlines()\n",
    "    numberoflines = len(arrayolines)\n",
    "    returnmat = np.zeros((numberoflines, 3))\n",
    "    classlabelvector = []\n",
    "    index = 0\n",
    "    for line in arrayolines:\n",
    "        line = line.strip()\n",
    "        listfromline = line.split('\\t')\n",
    "        returnmat[index, :] = listfromline[0:3]\n",
    "        classlabelvector.append(int(listfromline[-1]))\n",
    "        index += 1\n",
    "    return returnmat, classlabelvector"
   ]
  },
  {
   "cell_type": "code",
   "execution_count": 10,
   "metadata": {},
   "outputs": [
    {
     "data": {
      "text/plain": [
       "array([[4.0920000e+04, 8.3269760e+00, 9.5395200e-01],\n",
       "       [1.4488000e+04, 7.1534690e+00, 1.6739040e+00],\n",
       "       [2.6052000e+04, 1.4418710e+00, 8.0512400e-01],\n",
       "       ...,\n",
       "       [2.6575000e+04, 1.0650102e+01, 8.6662700e-01],\n",
       "       [4.8111000e+04, 9.1345280e+00, 7.2804500e-01],\n",
       "       [4.3757000e+04, 7.8826010e+00, 1.3324460e+00]])"
      ]
     },
     "execution_count": 10,
     "metadata": {},
     "output_type": "execute_result"
    }
   ],
   "source": [
    "# 查看数据\n",
    "datingDataMat, datingLabels = file2matrix('datingTestSet2.txt')\n",
    "datingDataMat"
   ]
  },
  {
   "cell_type": "code",
   "execution_count": 12,
   "metadata": {},
   "outputs": [
    {
     "data": {
      "text/plain": [
       "[3, 2, 1, 1, 1, 1, 3, 3, 1, 3, 1, 1, 2, 1, 1, 1, 1, 1, 2, 3]"
      ]
     },
     "execution_count": 12,
     "metadata": {},
     "output_type": "execute_result"
    }
   ],
   "source": [
    "datingLabels[0:20]"
   ]
  }
 ],
 "metadata": {
  "kernelspec": {
   "display_name": "Python 3",
   "language": "python",
   "name": "python3"
  },
  "language_info": {
   "codemirror_mode": {
    "name": "ipython",
    "version": 3
   },
   "file_extension": ".py",
   "mimetype": "text/x-python",
   "name": "python",
   "nbconvert_exporter": "python",
   "pygments_lexer": "ipython3",
   "version": "3.7.4"
  }
 },
 "nbformat": 4,
 "nbformat_minor": 2
}
